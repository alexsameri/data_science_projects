{
 "cells": [
  {
   "cell_type": "markdown",
   "id": "304159d3",
   "metadata": {},
   "source": [
    "#### Creating Database and tables"
   ]
  },
  {
   "cell_type": "code",
   "execution_count": 46,
   "id": "95242a1a",
   "metadata": {},
   "outputs": [],
   "source": [
    "#Importing myql.connector module\n",
    "import mysql.connector"
   ]
  },
  {
   "cell_type": "code",
   "execution_count": 47,
   "id": "185e4264",
   "metadata": {},
   "outputs": [],
   "source": [
    "#establishing connection to mysql workbench\n",
    "database=mysql.connector.connect(\n",
    "    user=\"root\", \n",
    "    password=\"Ezekiel@23\", \n",
    "    host=\"localhost\", \n",
    "    database=\"Student\")"
   ]
  },
  {
   "cell_type": "code",
   "execution_count": 48,
   "id": "ebdfb487",
   "metadata": {},
   "outputs": [],
   "source": [
    "# creating a cursor object that is used to execute sql querries\n",
    "mycursor=database.cursor()"
   ]
  },
  {
   "cell_type": "code",
   "execution_count": 51,
   "id": "55b47ef7",
   "metadata": {},
   "outputs": [],
   "source": [
    "#create a database students\n",
    "mycursor.execute(\"create database students1\")"
   ]
  },
  {
   "cell_type": "code",
   "execution_count": 53,
   "id": "10660c43",
   "metadata": {},
   "outputs": [],
   "source": [
    "#create a table scores\n",
    "mycursor.execute(\"create table scores2(name varchar(50), marks smallint UNSIGNED , personid int Primary key auto_increment)\")"
   ]
  },
  {
   "cell_type": "code",
   "execution_count": 54,
   "id": "ff698dd8",
   "metadata": {},
   "outputs": [],
   "source": [
    "#return the details about the table columns\n",
    "mycursor.execute(\"Describe scores2\")"
   ]
  },
  {
   "cell_type": "code",
   "execution_count": 55,
   "id": "6f8bb058",
   "metadata": {},
   "outputs": [
    {
     "name": "stdout",
     "output_type": "stream",
     "text": [
      "('name', 'varchar(50)', 'YES', '', None, '')\n",
      "('marks', 'smallint unsigned', 'YES', '', None, '')\n",
      "('personid', 'int', 'NO', 'PRI', None, 'auto_increment')\n"
     ]
    }
   ],
   "source": [
    "#iterate over the cursor object mycursor to fetch and print each row of the query results.\n",
    "for i in mycursor:\n",
    "    print(i)"
   ]
  },
  {
   "cell_type": "code",
   "execution_count": 57,
   "id": "aed7235e",
   "metadata": {},
   "outputs": [],
   "source": [
    "#The SQL statement specifies placeholders %s for the name and age columns.\n",
    "mycursor.execute(\"insert into scores2 (name,marks) values(%s,%s)\", (\"Joy\", 30))"
   ]
  },
  {
   "cell_type": "code",
   "execution_count": 58,
   "id": "02efcb89",
   "metadata": {},
   "outputs": [],
   "source": [
    "#save all changes made during the current transaction to the database\n",
    "database.commit()"
   ]
  },
  {
   "cell_type": "code",
   "execution_count": 59,
   "id": "e2e67bac",
   "metadata": {},
   "outputs": [],
   "source": [
    "#retrieve all rows and columns from the \"Classes\" table\n",
    "mycursor.execute(\"select * from scores2\")"
   ]
  },
  {
   "cell_type": "code",
   "execution_count": 60,
   "id": "0f40e30c",
   "metadata": {},
   "outputs": [
    {
     "name": "stdout",
     "output_type": "stream",
     "text": [
      "('Joy', 30, 1)\n"
     ]
    }
   ],
   "source": [
    "# iterate over the cursor object mycursor to fetch and print the records\n",
    "for i in mycursor:\n",
    "    print(i)"
   ]
  },
  {
   "cell_type": "markdown",
   "id": "695f7261",
   "metadata": {},
   "source": [
    "##### Retriving database and tables"
   ]
  },
  {
   "cell_type": "code",
   "execution_count": 61,
   "id": "cd019d30",
   "metadata": {},
   "outputs": [],
   "source": [
    "connection=mysql.connector.connect(user=\"root\", \n",
    "    password=\"Ezekiel@23\", \n",
    "    host=\"localhost\", \n",
    "    database=\"Student\")"
   ]
  },
  {
   "cell_type": "code",
   "execution_count": 62,
   "id": "93c613fe",
   "metadata": {},
   "outputs": [],
   "source": [
    "#returns rows as dictionaries, allowing access to data by column name instead of index using a cursor is a method will give you a cursor to work with the cod\n",
    "mydb=connection.cursor(dictionary=True)"
   ]
  },
  {
   "cell_type": "code",
   "execution_count": 63,
   "id": "6d57154b",
   "metadata": {},
   "outputs": [],
   "source": [
    "#execute any code you will use execute method\n",
    "mydb.execute(\"show databases\")    # if you want to execute any code you will use execute method."
   ]
  },
  {
   "cell_type": "code",
   "execution_count": 64,
   "id": "427da604",
   "metadata": {},
   "outputs": [
    {
     "name": "stdout",
     "output_type": "stream",
     "text": [
      "{'Database': 'information_schema'}\n",
      "{'Database': 'mysql'}\n",
      "{'Database': 'parliament'}\n",
      "{'Database': 'performance_schema'}\n",
      "{'Database': 'sankhyananisha'}\n",
      "{'Database': 'sankhyananisha2'}\n",
      "{'Database': 'sankyana'}\n",
      "{'Database': 'school'}\n",
      "{'Database': 'student'}\n",
      "{'Database': 'student1'}\n",
      "{'Database': 'student2'}\n",
      "{'Database': 'students'}\n",
      "{'Database': 'students1'}\n",
      "{'Database': 'sys'}\n"
     ]
    }
   ],
   "source": [
    "# iterate over the cursor object mydb to fetch and print each database name obtained from the executed SQL query.\n",
    "for i in mydb:\n",
    "    print(i)"
   ]
  },
  {
   "cell_type": "code",
   "execution_count": 65,
   "id": "02e6e342",
   "metadata": {},
   "outputs": [],
   "source": [
    "#excute the query fetching the results for further processing\n",
    "query=\"select * from scores2\"\n",
    "mydb.execute(query)"
   ]
  },
  {
   "cell_type": "code",
   "execution_count": 66,
   "id": "a8fde872",
   "metadata": {},
   "outputs": [
    {
     "name": "stdout",
     "output_type": "stream",
     "text": [
      "{'name': 'Joy', 'marks': 30, 'personid': 1}\n"
     ]
    }
   ],
   "source": [
    "for i in mydb:\n",
    "    print(i)"
   ]
  },
  {
   "cell_type": "code",
   "execution_count": null,
   "id": "01d6ce78",
   "metadata": {},
   "outputs": [],
   "source": []
  }
 ],
 "metadata": {
  "kernelspec": {
   "display_name": "Python 3 (ipykernel)",
   "language": "python",
   "name": "python3"
  },
  "language_info": {
   "codemirror_mode": {
    "name": "ipython",
    "version": 3
   },
   "file_extension": ".py",
   "mimetype": "text/x-python",
   "name": "python",
   "nbconvert_exporter": "python",
   "pygments_lexer": "ipython3",
   "version": "3.9.13"
  }
 },
 "nbformat": 4,
 "nbformat_minor": 5
}
