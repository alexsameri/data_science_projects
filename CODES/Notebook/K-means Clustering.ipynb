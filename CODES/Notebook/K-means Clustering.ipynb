{
 "cells": [
  {
   "cell_type": "code",
   "execution_count": 1,
   "metadata": {},
   "outputs": [],
   "source": [
    "#Importing the neccesary libraries\n",
    "import pandas as pd \n",
    "import matplotlib.pyplot as plt \n",
    "import seaborn as sns\n",
    "import warnings\n",
    "warnings.filterwarnings(\"ignore\")"
   ]
  },
  {
   "cell_type": "code",
   "execution_count": 2,
   "metadata": {},
   "outputs": [
    {
     "data": {
      "text/html": [
       "<div>\n",
       "<style scoped>\n",
       "    .dataframe tbody tr th:only-of-type {\n",
       "        vertical-align: middle;\n",
       "    }\n",
       "\n",
       "    .dataframe tbody tr th {\n",
       "        vertical-align: top;\n",
       "    }\n",
       "\n",
       "    .dataframe thead th {\n",
       "        text-align: right;\n",
       "    }\n",
       "</style>\n",
       "<table border=\"1\" class=\"dataframe\">\n",
       "  <thead>\n",
       "    <tr style=\"text-align: right;\">\n",
       "      <th></th>\n",
       "      <th>CustomerID</th>\n",
       "      <th>Gender</th>\n",
       "      <th>Age</th>\n",
       "      <th>Annual Income (k$)</th>\n",
       "      <th>Spending Score (1-100)</th>\n",
       "    </tr>\n",
       "  </thead>\n",
       "  <tbody>\n",
       "    <tr>\n",
       "      <th>0</th>\n",
       "      <td>1</td>\n",
       "      <td>Male</td>\n",
       "      <td>19</td>\n",
       "      <td>15</td>\n",
       "      <td>39</td>\n",
       "    </tr>\n",
       "    <tr>\n",
       "      <th>1</th>\n",
       "      <td>2</td>\n",
       "      <td>Male</td>\n",
       "      <td>21</td>\n",
       "      <td>15</td>\n",
       "      <td>81</td>\n",
       "    </tr>\n",
       "    <tr>\n",
       "      <th>2</th>\n",
       "      <td>3</td>\n",
       "      <td>Female</td>\n",
       "      <td>20</td>\n",
       "      <td>16</td>\n",
       "      <td>6</td>\n",
       "    </tr>\n",
       "    <tr>\n",
       "      <th>3</th>\n",
       "      <td>4</td>\n",
       "      <td>Female</td>\n",
       "      <td>23</td>\n",
       "      <td>16</td>\n",
       "      <td>77</td>\n",
       "    </tr>\n",
       "    <tr>\n",
       "      <th>4</th>\n",
       "      <td>5</td>\n",
       "      <td>Female</td>\n",
       "      <td>31</td>\n",
       "      <td>17</td>\n",
       "      <td>40</td>\n",
       "    </tr>\n",
       "    <tr>\n",
       "      <th>5</th>\n",
       "      <td>6</td>\n",
       "      <td>Female</td>\n",
       "      <td>22</td>\n",
       "      <td>17</td>\n",
       "      <td>76</td>\n",
       "    </tr>\n",
       "    <tr>\n",
       "      <th>6</th>\n",
       "      <td>7</td>\n",
       "      <td>Female</td>\n",
       "      <td>35</td>\n",
       "      <td>18</td>\n",
       "      <td>6</td>\n",
       "    </tr>\n",
       "    <tr>\n",
       "      <th>7</th>\n",
       "      <td>8</td>\n",
       "      <td>Female</td>\n",
       "      <td>23</td>\n",
       "      <td>18</td>\n",
       "      <td>94</td>\n",
       "    </tr>\n",
       "    <tr>\n",
       "      <th>8</th>\n",
       "      <td>9</td>\n",
       "      <td>Male</td>\n",
       "      <td>64</td>\n",
       "      <td>19</td>\n",
       "      <td>3</td>\n",
       "    </tr>\n",
       "    <tr>\n",
       "      <th>9</th>\n",
       "      <td>10</td>\n",
       "      <td>Female</td>\n",
       "      <td>30</td>\n",
       "      <td>19</td>\n",
       "      <td>72</td>\n",
       "    </tr>\n",
       "  </tbody>\n",
       "</table>\n",
       "</div>"
      ],
      "text/plain": [
       "   CustomerID  Gender  Age  Annual Income (k$)  Spending Score (1-100)\n",
       "0           1    Male   19                  15                      39\n",
       "1           2    Male   21                  15                      81\n",
       "2           3  Female   20                  16                       6\n",
       "3           4  Female   23                  16                      77\n",
       "4           5  Female   31                  17                      40\n",
       "5           6  Female   22                  17                      76\n",
       "6           7  Female   35                  18                       6\n",
       "7           8  Female   23                  18                      94\n",
       "8           9    Male   64                  19                       3\n",
       "9          10  Female   30                  19                      72"
      ]
     },
     "execution_count": 2,
     "metadata": {},
     "output_type": "execute_result"
    }
   ],
   "source": [
    "#Loading the dataset\n",
    "dataset = pd.read_csv('E:\\Sankhyana Training\\Datasets\\Mall_Customers.csv')\n",
    "dataset.head(10)"
   ]
  },
  {
   "cell_type": "code",
   "execution_count": 3,
   "metadata": {},
   "outputs": [
    {
     "data": {
      "text/plain": [
       "(200, 5)"
      ]
     },
     "execution_count": 3,
     "metadata": {},
     "output_type": "execute_result"
    }
   ],
   "source": [
    "dataset.shape"
   ]
  },
  {
   "cell_type": "code",
   "execution_count": 4,
   "metadata": {},
   "outputs": [
    {
     "name": "stdout",
     "output_type": "stream",
     "text": [
      "<class 'pandas.core.frame.DataFrame'>\n",
      "RangeIndex: 200 entries, 0 to 199\n",
      "Data columns (total 5 columns):\n",
      " #   Column                  Non-Null Count  Dtype \n",
      "---  ------                  --------------  ----- \n",
      " 0   CustomerID              200 non-null    int64 \n",
      " 1   Gender                  200 non-null    object\n",
      " 2   Age                     200 non-null    int64 \n",
      " 3   Annual Income (k$)      200 non-null    int64 \n",
      " 4   Spending Score (1-100)  200 non-null    int64 \n",
      "dtypes: int64(4), object(1)\n",
      "memory usage: 7.9+ KB\n"
     ]
    }
   ],
   "source": [
    "dataset.info()  # sunnary data info"
   ]
  },
  {
   "cell_type": "code",
   "execution_count": 5,
   "metadata": {},
   "outputs": [
    {
     "data": {
      "text/plain": [
       "CustomerID                0\n",
       "Gender                    0\n",
       "Age                       0\n",
       "Annual Income (k$)        0\n",
       "Spending Score (1-100)    0\n",
       "dtype: int64"
      ]
     },
     "execution_count": 5,
     "metadata": {},
     "output_type": "execute_result"
    }
   ],
   "source": [
    "dataset.isnull().sum()   #Missing values computation"
   ]
  },
  {
   "cell_type": "code",
   "execution_count": 6,
   "metadata": {},
   "outputs": [
    {
     "data": {
      "text/plain": [
       "(200, 2)"
      ]
     },
     "execution_count": 6,
     "metadata": {},
     "output_type": "execute_result"
    }
   ],
   "source": [
    "# Spliting the inpuc columns column index 3 and 4\n",
    "X= dataset.iloc[:, [3,4]].values\n",
    "X.shape"
   ]
  },
  {
   "cell_type": "code",
   "execution_count": 7,
   "metadata": {
    "scrolled": true
   },
   "outputs": [],
   "source": [
    "from sklearn.cluster import KMeans\n",
    "wcss=[] \n",
    "for i in range(1,11):\n",
    "    kmeans = KMeans(n_clusters= i, init='k-means++', random_state=0) \n",
    "    kmeans.fit(X)\n",
    "    wcss.append(kmeans.inertia_)   "
   ]
  },
  {
   "cell_type": "markdown",
   "metadata": {},
   "source": [
    "### Visualizing the ELBOW method"
   ]
  },
  {
   "cell_type": "code",
   "execution_count": 8,
   "metadata": {},
   "outputs": [
    {
     "data": {
      "image/png": "[encoded data removed]",
      "text/plain": [
       "<Figure size 640x480 with 1 Axes>"
      ]
     },
     "metadata": {},
     "output_type": "display_data"
    }
   ],
   "source": [
    "#visualizing the elbow to determine the number of clusters you need to use\n",
    "plt.plot(range(1,11), wcss, marker='o')\n",
    "plt.title('The Elbow Method')\n",
    "plt.xlabel('no of clusters')\n",
    "plt.ylabel('wcss')\n",
    "plt.show()"
   ]
  },
  {
   "cell_type": "code",
   "execution_count": 9,
   "metadata": {},
   "outputs": [],
   "source": [
    "#Building the model\n",
    "kmeansmodel = KMeans(n_clusters= 5, init='k-means++', random_state=0)\n",
    "y_kmeans= kmeansmodel.fit_predict(X)"
   ]
  },
  {
   "cell_type": "code",
   "execution_count": 10,
   "metadata": {},
   "outputs": [
    {
     "data": {
      "text/plain": [
       "<matplotlib.legend.Legend at 0x213b00abd60>"
      ]
     },
     "execution_count": 10,
     "metadata": {},
     "output_type": "execute_result"
    },
    {
     "data": {
      "image/png": "[encoded data removed]",
      "text/plain": [
       "<Figure size 640x480 with 1 Axes>"
      ]
     },
     "metadata": {},
     "output_type": "display_data"
    }
   ],
   "source": [
    "\n",
    "#Visualizing the clusters\n",
    "plt.scatter(X[y_kmeans == 0, 0], X[y_kmeans == 0, 1], s = 100, c = 'red', label = 'Cluster 1')\n",
    "plt.scatter(X[y_kmeans == 1, 0], X[y_kmeans == 1, 1], s = 100, c = 'blue', label = 'Cluster 2')\n",
    "plt.scatter(X[y_kmeans == 2, 0], X[y_kmeans == 2, 1], s = 100, c = 'green', label = 'Cluster 3')\n",
    "plt.scatter(X[y_kmeans == 3, 0], X[y_kmeans == 3, 1], s = 100, c = 'cyan', label = 'Cluster 4')\n",
    "plt.scatter(X[y_kmeans == 4, 0], X[y_kmeans == 4, 1], s = 100, c = 'magenta', label = 'Cluster 5')\n",
    "plt.scatter(kmeans.cluster_centers_[:, 1], kmeans.cluster_centers_[:, 1], s = 300, c = 'yellow', label = 'Centroids')\n",
    "plt.xlabel('Annual Income')\n",
    "plt.ylabel('Spending Score')\n",
    "plt.legend()\n"
   ]
  },
  {
   "cell_type": "markdown",
   "metadata": {},
   "source": [
    "### Model Interpretation \n",
    "Cluster 1 (Red Color) -> earning high but spending less              \n",
    "cluster 2 (Blue Colr) -> average in terms of earning and spending              \n",
    "cluster 3 (Green Color) -> earning high and also spending high [TARGET SET]             \n",
    "cluster 4 (cyan Color) -> earning less but spending more                \n",
    "Cluster 5 (magenta Color) -> Earning less , spending less                 \n",
    "                                                                 \n",
    "****We can put Cluster 3 into some alerting system where email can be send to them on daily basis as these are easy to converse, wherein others we can set like once in a week or once in a month****    "
   ]
  },
  {
   "cell_type": "code",
   "execution_count": 11,
   "metadata": {},
   "outputs": [
    {
     "data": {
      "text/plain": [
       "<matplotlib.collections.PathCollection at 0x213b012ec40>"
      ]
     },
     "execution_count": 11,
     "metadata": {},
     "output_type": "execute_result"
    },
    {
     "data": {
      "image/png": "[encoded data removed]",
      "text/plain": [
       "<Figure size 640x480 with 1 Axes>"
      ]
     },
     "metadata": {},
     "output_type": "display_data"
    }
   ],
   "source": [
    "plt.scatter(X[y_kmeans == 2, 0], X[y_kmeans == 2, 1], s = 100, c = 'green', label = 'Cluster 3')"
   ]
  },
  {
   "cell_type": "code",
   "execution_count": 14,
   "metadata": {},
   "outputs": [
    {
     "name": "stdout",
     "output_type": "stream",
     "text": [
      "\n",
      "Points in Cluster 1:\n",
      " [[39 61]\n",
      " [40 55]\n",
      " [40 47]\n",
      " [40 42]\n",
      " [40 42]\n",
      " [42 52]\n",
      " [42 60]\n",
      " [43 54]\n",
      " [43 60]\n",
      " [43 45]\n",
      " [43 41]\n",
      " [44 50]\n",
      " [44 46]\n",
      " [46 51]\n",
      " [46 46]\n",
      " [46 56]\n",
      " [46 55]\n",
      " [47 52]\n",
      " [47 59]\n",
      " [48 51]\n",
      " [48 59]\n",
      " [48 50]\n",
      " [48 48]\n",
      " [48 59]\n",
      " [48 47]\n",
      " [49 55]\n",
      " [49 42]\n",
      " [50 49]\n",
      " [50 56]\n",
      " [54 47]\n",
      " [54 54]\n",
      " [54 53]\n",
      " [54 48]\n",
      " [54 52]\n",
      " [54 42]\n",
      " [54 51]\n",
      " [54 55]\n",
      " [54 41]\n",
      " [54 44]\n",
      " [54 57]\n",
      " [54 46]\n",
      " [57 58]\n",
      " [57 55]\n",
      " [58 60]\n",
      " [58 46]\n",
      " [59 55]\n",
      " [59 41]\n",
      " [60 49]\n",
      " [60 40]\n",
      " [60 42]\n",
      " [60 52]\n",
      " [60 47]\n",
      " [60 50]\n",
      " [61 42]\n",
      " [61 49]\n",
      " [62 41]\n",
      " [62 48]\n",
      " [62 59]\n",
      " [62 55]\n",
      " [62 56]\n",
      " [62 42]\n",
      " [63 50]\n",
      " [63 46]\n",
      " [63 43]\n",
      " [63 48]\n",
      " [63 52]\n",
      " [63 54]\n",
      " [64 42]\n",
      " [64 46]\n",
      " [65 48]\n",
      " [65 50]\n",
      " [65 43]\n",
      " [65 59]\n",
      " [67 43]\n",
      " [67 57]\n",
      " [67 56]\n",
      " [67 40]\n",
      " [69 58]\n",
      " [71 35]\n",
      " [72 34]\n",
      " [76 40]]\n",
      "\n",
      "Points in Cluster 2:\n",
      " [[ 69  91]\n",
      " [ 70  77]\n",
      " [ 71  95]\n",
      " [ 71  75]\n",
      " [ 71  75]\n",
      " [ 72  71]\n",
      " [ 73  88]\n",
      " [ 73  73]\n",
      " [ 74  72]\n",
      " [ 75  93]\n",
      " [ 76  87]\n",
      " [ 77  97]\n",
      " [ 77  74]\n",
      " [ 78  90]\n",
      " [ 78  88]\n",
      " [ 78  76]\n",
      " [ 78  89]\n",
      " [ 78  78]\n",
      " [ 78  73]\n",
      " [ 79  83]\n",
      " [ 81  93]\n",
      " [ 85  75]\n",
      " [ 86  95]\n",
      " [ 87  63]\n",
      " [ 87  75]\n",
      " [ 87  92]\n",
      " [ 88  86]\n",
      " [ 88  69]\n",
      " [ 93  90]\n",
      " [ 97  86]\n",
      " [ 98  88]\n",
      " [ 99  97]\n",
      " [101  68]\n",
      " [103  85]\n",
      " [103  69]\n",
      " [113  91]\n",
      " [120  79]\n",
      " [126  74]\n",
      " [137  83]]\n",
      "\n",
      "Points in Cluster 3:\n",
      " [[ 70  29]\n",
      " [ 71  11]\n",
      " [ 71   9]\n",
      " [ 73   5]\n",
      " [ 73   7]\n",
      " [ 74  10]\n",
      " [ 75   5]\n",
      " [ 77  12]\n",
      " [ 77  36]\n",
      " [ 78  22]\n",
      " [ 78  17]\n",
      " [ 78  20]\n",
      " [ 78  16]\n",
      " [ 78   1]\n",
      " [ 78   1]\n",
      " [ 79  35]\n",
      " [ 81   5]\n",
      " [ 85  26]\n",
      " [ 86  20]\n",
      " [ 87  27]\n",
      " [ 87  13]\n",
      " [ 87  10]\n",
      " [ 88  13]\n",
      " [ 88  15]\n",
      " [ 93  14]\n",
      " [ 97  32]\n",
      " [ 98  15]\n",
      " [ 99  39]\n",
      " [101  24]\n",
      " [103  17]\n",
      " [103  23]\n",
      " [113   8]\n",
      " [120  16]\n",
      " [126  28]\n",
      " [137  18]]\n",
      "\n",
      "Points in Cluster 4:\n",
      " [[15 39]\n",
      " [16  6]\n",
      " [17 40]\n",
      " [18  6]\n",
      " [19  3]\n",
      " [19 14]\n",
      " [20 15]\n",
      " [20 13]\n",
      " [21 35]\n",
      " [23 29]\n",
      " [24 35]\n",
      " [25  5]\n",
      " [28 14]\n",
      " [28 32]\n",
      " [29 31]\n",
      " [30  4]\n",
      " [33  4]\n",
      " [33 14]\n",
      " [34 17]\n",
      " [37 26]\n",
      " [38 35]\n",
      " [39 36]\n",
      " [39 28]]\n",
      "\n",
      "Points in Cluster 5:\n",
      " [[15 81]\n",
      " [16 77]\n",
      " [17 76]\n",
      " [18 94]\n",
      " [19 72]\n",
      " [19 99]\n",
      " [20 77]\n",
      " [20 79]\n",
      " [21 66]\n",
      " [23 98]\n",
      " [24 73]\n",
      " [25 73]\n",
      " [28 82]\n",
      " [28 61]\n",
      " [29 87]\n",
      " [30 73]\n",
      " [33 92]\n",
      " [33 81]\n",
      " [34 73]\n",
      " [37 75]\n",
      " [38 92]\n",
      " [39 65]]\n"
     ]
    }
   ],
   "source": [
    "# Display points for each cluster\n",
    "for i in range(max(y_kmeans) + 1):  # Loop through each cluster\n",
    "    print(f\"\\nPoints in Cluster {i + 1}:\\n\", X[y_kmeans == i])\n"
   ]
  },
  {
   "cell_type": "code",
   "execution_count": null,
   "metadata": {},
   "outputs": [],
   "source": []
  }
 ],
 "metadata": {
  "kernelspec": {
   "display_name": "Python 3 (ipykernel)",
   "language": "python",
   "name": "python3"
  },
  "language_info": {
   "codemirror_mode": {
    "name": "ipython",
    "version": 3
   },
   "file_extension": ".py",
   "mimetype": "text/x-python",
   "name": "python",
   "nbconvert_exporter": "python",
   "pygments_lexer": "ipython3",
   "version": "3.9.13"
  }
 },
 "nbformat": 4,
 "nbformat_minor": 4
}
