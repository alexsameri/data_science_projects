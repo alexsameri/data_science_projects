{
 "cells": [
  {
   "cell_type": "markdown",
   "id": "c42caae2",
   "metadata": {},
   "source": [
    "# NLP Operations                           "
   ]
  },
  {
   "cell_type": "code",
   "execution_count": null,
   "id": "ca9fee78-1cb9-4a1e-9777-00b45b17d69d",
   "metadata": {},
   "outputs": [],
   "source": [
    "pip install nltk"
   ]
  },
  {
   "cell_type": "code",
   "execution_count": 2,
   "id": "8c19fbb1",
   "metadata": {},
   "outputs": [],
   "source": [
    "#import NLTK\n",
    "import nltk "
   ]
  },
  {
   "cell_type": "code",
   "execution_count": 3,
   "id": "3eb8d9b7",
   "metadata": {},
   "outputs": [
    {
     "name": "stderr",
     "output_type": "stream",
     "text": [
      "[nltk_data] Downloading package punkt to\n",
      "[nltk_data]     C:\\Users\\Administrator\\AppData\\Roaming\\nltk_data...\n",
      "[nltk_data]   Package punkt is already up-to-date!\n"
     ]
    },
    {
     "data": {
      "text/plain": [
       "True"
      ]
     },
     "execution_count": 3,
     "metadata": {},
     "output_type": "execute_result"
    }
   ],
   "source": [
    "nltk.download('punkt') "
   ]
  },
  {
   "cell_type": "markdown",
   "id": "543715af",
   "metadata": {},
   "source": [
    "# Tokenization"
   ]
  },
  {
   "cell_type": "code",
   "execution_count": 4,
   "id": "abd58bd0",
   "metadata": {},
   "outputs": [
    {
     "data": {
      "text/plain": [
       "'Then come home , my children , the sun is gone down , And the dews of night arise ; \\nCome , come , leave off play , and let us away , Till the morning appears in the skies .\\n\" \" No , no , let us play , for it is yet day , And we cannot go to sleep ; \\nBesides , in the sky the little birds fly , And the hills are all covered with sheep .\\n\" \" Well , well , go and play till the light fades away , And then go home to bed .\\n\" The little ones leaped , and shouted , and laughed , And all the hills echoed .'"
      ]
     },
     "execution_count": 4,
     "metadata": {},
     "output_type": "execute_result"
    }
   ],
   "source": [
    "from nltk import * \n",
    "sent = \"\"\"Then come home , my children , the sun is gone down , And the dews of night arise ; \n",
    "Come , come , leave off play , and let us away , Till the morning appears in the skies .\n",
    "\" \" No , no , let us play , for it is yet day , And we cannot go to sleep ; \n",
    "Besides , in the sky the little birds fly , And the hills are all covered with sheep .\n",
    "\" \" Well , well , go and play till the light fades away , And then go home to bed .\n",
    "\" The little ones leaped , and shouted , and laughed , And all the hills echoed .\"\"\"\n",
    "sent"
   ]
  },
  {
   "cell_type": "code",
   "execution_count": 5,
   "id": "db764f47",
   "metadata": {},
   "outputs": [
    {
     "name": "stdout",
     "output_type": "stream",
     "text": [
      "['Then', 'come', 'home', ',', 'my', 'children', ',', 'the', 'sun', 'is', 'gone', 'down', ',', 'And', 'the', 'dews', 'of', 'night', 'arise', ';', 'Come', ',', 'come', ',', 'leave', 'off', 'play', ',', 'and', 'let', 'us', 'away', ',', 'Till', 'the', 'morning', 'appears', 'in', 'the', 'skies', '.', \"''\", '``', 'No', ',', 'no', ',', 'let', 'us', 'play', ',', 'for', 'it', 'is', 'yet', 'day', ',', 'And', 'we', 'can', 'not', 'go', 'to', 'sleep', ';', 'Besides', ',', 'in', 'the', 'sky', 'the', 'little', 'birds', 'fly', ',', 'And', 'the', 'hills', 'are', 'all', 'covered', 'with', 'sheep', '.', \"''\", '``', 'Well', ',', 'well', ',', 'go', 'and', 'play', 'till', 'the', 'light', 'fades', 'away', ',', 'And', 'then', 'go', 'home', 'to', 'bed', '.', \"''\", 'The', 'little', 'ones', 'leaped', ',', 'and', 'shouted', ',', 'and', 'laughed', ',', 'And', 'all', 'the', 'hills', 'echoed', '.']\n"
     ]
    }
   ],
   "source": [
    "from nltk.tokenize import word_tokenize \n",
    "print(nltk.word_tokenize(sent)) "
   ]
  },
  {
   "cell_type": "markdown",
   "id": "47b568f7",
   "metadata": {},
   "source": [
    "## Part of Speech\n"
   ]
  },
  {
   "cell_type": "code",
   "execution_count": 8,
   "id": "c42a195a",
   "metadata": {},
   "outputs": [
    {
     "name": "stdout",
     "output_type": "stream",
     "text": [
      "[(\"''\", \"''\"), ('And', 'CC'), ('Besides', 'NNP'), ('Come', 'NNP'), ('No', 'NNP'), ('The', 'DT'), ('Then', 'RB'), ('Till', 'NNP'), ('Well', 'NNP'), ('``', '``'), ('all', 'DT'), ('and', 'CC'), ('appears', 'VBZ'), ('are', 'VBP'), ('arise', 'VB'), ('away', 'RB'), ('bed', 'JJ'), ('birds', 'NNS'), ('can', 'MD'), ('children', 'NNS'), ('come', 'VB'), ('covered', 'VBN'), ('day', 'NN'), ('dews', 'VBZ'), ('down', 'RP'), ('echoed', 'RB'), ('fades', 'NNS'), ('fly', 'VBP'), ('for', 'IN'), ('go', 'VBP'), ('gone', 'VBN'), ('hills', 'RB'), ('home', 'NN'), ('in', 'IN'), ('is', 'VBZ'), ('it', 'PRP'), ('laughed', 'VBD'), ('leaped', 'VBN'), ('leave', 'VB'), ('let', 'NN'), ('light', 'JJ'), ('little', 'JJ'), ('morning', 'NN'), ('my', 'PRP$'), ('night', 'NN'), ('no', 'DT'), ('not', 'RB'), ('of', 'IN'), ('off', 'IN'), ('ones', 'NNS'), ('play', 'VBP'), ('sheep', 'RB'), ('shouted', 'JJ'), ('skies', 'NNS'), ('sky', 'VBP'), ('sleep', 'JJ'), ('sun', 'NN'), ('the', 'DT'), ('then', 'RB'), ('till', 'NN'), ('to', 'TO'), ('us', 'PRP'), ('we', 'PRP'), ('well', 'VBP'), ('with', 'IN'), ('yet', 'RB')]\n"
     ]
    }
   ],
   "source": [
    "from nltk import pos_tag \n",
    "pos_list = pos_tag(vocab_wo_punct)\n",
    "print(pos_list)"
   ]
  },
  {
   "cell_type": "markdown",
   "id": "46b1c5cb",
   "metadata": {},
   "source": [
    "## Root of a word – Stemming"
   ]
  },
  {
   "cell_type": "code",
   "execution_count": 37,
   "id": "1edff78f",
   "metadata": {},
   "outputs": [
    {
     "data": {
      "text/plain": [
       "'chang'"
      ]
     },
     "execution_count": 37,
     "metadata": {},
     "output_type": "execute_result"
    }
   ],
   "source": [
    "from nltk.stem.snowball import SnowballStemmer \n",
    "stemObj = SnowballStemmer(\"english\") \n",
    "stemObj.stem(\"changing\") "
   ]
  },
  {
   "cell_type": "code",
   "execution_count": 10,
   "id": "841c22f9",
   "metadata": {},
   "outputs": [
    {
     "data": {
      "text/plain": [
       "'chocol'"
      ]
     },
     "execution_count": 10,
     "metadata": {},
     "output_type": "execute_result"
    }
   ],
   "source": [
    "stemObj = SnowballStemmer(\"english\")\n",
    "stemObj.stem(\"chocolates\") "
   ]
  },
  {
   "cell_type": "markdown",
   "id": "988a5db5",
   "metadata": {},
   "source": [
    "## Base of a word – Lemmatization"
   ]
  },
  {
   "cell_type": "code",
   "execution_count": 12,
   "id": "a1d087d6",
   "metadata": {},
   "outputs": [
    {
     "name": "stderr",
     "output_type": "stream",
     "text": [
      "[nltk_data] Downloading package omw-1.4 to\n",
      "[nltk_data]     C:\\Users\\Administrator\\AppData\\Roaming\\nltk_data...\n",
      "[nltk_data]   Package omw-1.4 is already up-to-date!\n"
     ]
    },
    {
     "data": {
      "text/plain": [
       "True"
      ]
     },
     "execution_count": 12,
     "metadata": {},
     "output_type": "execute_result"
    }
   ],
   "source": [
    "nltk.download('omw-1.4')"
   ]
  },
  {
   "cell_type": "code",
   "execution_count": 13,
   "id": "9ad71bd7",
   "metadata": {},
   "outputs": [
    {
     "data": {
      "text/plain": [
       "'go'"
      ]
     },
     "execution_count": 13,
     "metadata": {},
     "output_type": "execute_result"
    }
   ],
   "source": [
    "from nltk.stem.wordnet import WordNetLemmatizer\n",
    "lemmaObj =  WordNetLemmatizer() \n",
    "lemmaObj.lemmatize(\"went\",pos='v')"
   ]
  },
  {
   "cell_type": "code",
   "execution_count": 14,
   "id": "b768a3d1",
   "metadata": {},
   "outputs": [
    {
     "data": {
      "text/plain": [
       "'care'"
      ]
     },
     "execution_count": 14,
     "metadata": {},
     "output_type": "execute_result"
    }
   ],
   "source": [
    "lemmaObj.lemmatize(\"caring\",pos='v')"
   ]
  },
  {
   "cell_type": "code",
   "execution_count": 15,
   "id": "cde27e2d",
   "metadata": {},
   "outputs": [
    {
     "data": {
      "text/plain": [
       "'good'"
      ]
     },
     "execution_count": 15,
     "metadata": {},
     "output_type": "execute_result"
    }
   ],
   "source": [
    "lemmaObj.lemmatize(\"better\",pos='a')"
   ]
  },
  {
   "cell_type": "code",
   "execution_count": 16,
   "id": "7ef410ed",
   "metadata": {},
   "outputs": [
    {
     "data": {
      "text/plain": [
       "'rock'"
      ]
     },
     "execution_count": 16,
     "metadata": {},
     "output_type": "execute_result"
    }
   ],
   "source": [
    "lemmaObj.lemmatize(\"rocks\")"
   ]
  },
  {
   "cell_type": "code",
   "execution_count": 17,
   "id": "166e4c8c",
   "metadata": {},
   "outputs": [
    {
     "data": {
      "text/plain": [
       "'corpus'"
      ]
     },
     "execution_count": 17,
     "metadata": {},
     "output_type": "execute_result"
    }
   ],
   "source": [
    "lemmaObj.lemmatize(\"corpora\")"
   ]
  },
  {
   "cell_type": "code",
   "execution_count": 18,
   "id": "81ea094f",
   "metadata": {},
   "outputs": [
    {
     "data": {
      "text/plain": [
       "'foot'"
      ]
     },
     "execution_count": 18,
     "metadata": {},
     "output_type": "execute_result"
    }
   ],
   "source": [
    "lemmaObj.lemmatize(\"feet\")"
   ]
  },
  {
   "cell_type": "code",
   "execution_count": 19,
   "id": "322d5ed8",
   "metadata": {},
   "outputs": [
    {
     "data": {
      "text/plain": [
       "'chocolate'"
      ]
     },
     "execution_count": 19,
     "metadata": {},
     "output_type": "execute_result"
    }
   ],
   "source": [
    "lemmaObj.lemmatize(\"chocolates\")"
   ]
  },
  {
   "cell_type": "code",
   "execution_count": 22,
   "id": "e95ed288",
   "metadata": {},
   "outputs": [
    {
     "data": {
      "image/png": "[encoded data removed]",
      "text/plain": [
       "<Figure size 432x288 with 1 Axes>"
      ]
     },
     "metadata": {
      "needs_background": "light"
     },
     "output_type": "display_data"
    },
    {
     "data": {
      "text/plain": [
       "<AxesSubplot:xlabel='Samples', ylabel='Counts'>"
      ]
     },
     "execution_count": 22,
     "metadata": {},
     "output_type": "execute_result"
    }
   ],
   "source": [
    "text=\"\"\"I saw John coming. He was with Mary. I talked to John and Mary. \n",
    "John said he met Mary on the way. John and Mary were going to school.\"\"\"\n",
    "nltk.FreqDist(text.split()).plot()"
   ]
  },
  {
   "cell_type": "code",
   "execution_count": 23,
   "id": "3ccb84ae",
   "metadata": {},
   "outputs": [],
   "source": [
    "from nltk.probability import FreqDist\n",
    "frequency=FreqDist()"
   ]
  },
  {
   "cell_type": "code",
   "execution_count": 24,
   "id": "8ed6385c",
   "metadata": {},
   "outputs": [
    {
     "name": "stdout",
     "output_type": "stream",
     "text": [
      "I:2\n",
      "saw:1\n",
      "John:4\n",
      "coming:1\n",
      ".:5\n",
      "He:1\n",
      "was:1\n",
      "with:1\n",
      "Mary:4\n",
      "talked:1\n",
      "to:2\n",
      "and:2\n",
      "said:1\n",
      "he:1\n",
      "met:1\n",
      "on:1\n",
      "the:1\n",
      "way:1\n",
      "were:1\n",
      "going:1\n",
      "school:1\n"
     ]
    }
   ],
   "source": [
    "freq = nltk.FreqDist(nltk.word_tokenize(text)) \n",
    "for key,val in freq.items(): \n",
    "    print (str(key) + ':' + str(val))\n"
   ]
  },
  {
   "cell_type": "code",
   "execution_count": 39,
   "id": "c0db4f86",
   "metadata": {},
   "outputs": [
    {
     "data": {
      "text/plain": [
       "[('.', 5),\n",
       " ('John', 4),\n",
       " ('Mary', 4),\n",
       " ('I', 2),\n",
       " ('to', 2),\n",
       " ('and', 2),\n",
       " ('saw', 1),\n",
       " ('coming', 1),\n",
       " ('He', 1),\n",
       " ('was', 1),\n",
       " ('with', 1),\n",
       " ('talked', 1),\n",
       " ('said', 1),\n",
       " ('he', 1),\n",
       " ('met', 1),\n",
       " ('on', 1),\n",
       " ('the', 1),\n",
       " ('way', 1),\n",
       " ('were', 1),\n",
       " ('going', 1)]"
      ]
     },
     "execution_count": 39,
     "metadata": {},
     "output_type": "execute_result"
    }
   ],
   "source": [
    "freq.most_common(20)"
   ]
  },
  {
   "cell_type": "code",
   "execution_count": null,
   "id": "4370a6d5",
   "metadata": {},
   "outputs": [],
   "source": []
  }
 ],
 "metadata": {
  "kernelspec": {
   "display_name": "Python 3 (ipykernel)",
   "language": "python",
   "name": "python3"
  },
  "language_info": {
   "codemirror_mode": {
    "name": "ipython",
    "version": 3
   },
   "file_extension": ".py",
   "mimetype": "text/x-python",
   "name": "python",
   "nbconvert_exporter": "python",
   "pygments_lexer": "ipython3",
   "version": "3.9.19"
  }
 },
 "nbformat": 4,
 "nbformat_minor": 5
}
