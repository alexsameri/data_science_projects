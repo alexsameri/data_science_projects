{
 "cells": [
  {
   "cell_type": "code",
   "execution_count": 1,
   "metadata": {},
   "outputs": [],
   "source": [
    "import tkinter as tk\n",
    "import time\n",
    "root = tk.Tk()\n",
    "root.title(\"Flashing 3D bulb\")\n",
    "root.geometry(\"200x200\")\n",
    "canvas = tk.Canvas(root, width=200, height=200)\n",
    "canvas.pack()\n",
    "colors = [\"red\", \"blue\", \"green\", \"yellow\", \"purple\"]\n",
    "current_color_index = 0\n",
    "def create_3D_bulb(color):\n",
    "    canvas.delete(\"bulb\")\n",
    "    canvas.create_oval(50, 50, 150, 150, fill=color, tags=\"bulb\", outline=color)\n",
    "    canvas.create_oval(60, 60, 140, 140, fill=color, tags=\"bulb\", outline=color, stipple=\"gray50\")\n",
    "    canvas.create_oval(70, 70, 130, 130, fill=color, tags=\"bulb\", outline=color, stipple=\"gray25\")\n",
    "    canvas.create_oval(80, 80, 120, 120, fill=color, tags=\"bulb\", outline=color, stipple=\"gray12\")\n",
    "    canvas.create_oval(90, 90, 110, 110, fill=color, tags=\"bulb\", outline=color, stipple=\"gray75\")\n",
    "\n",
    "def update_bulb():\n",
    "    global current_color_index\n",
    "    create_3D_bulb(colors[current_color_index])\n",
    "    current_color_index = (current_color_index + 1) % len(colors)\n",
    "    root.after(500, update_bulb)\n",
    "\n",
    "update_bulb()\n",
    "root.mainloop()"
   ]
  },
  {
   "cell_type": "code",
   "execution_count": null,
   "metadata": {},
   "outputs": [],
   "source": []
  }
 ],
 "metadata": {
  "kernelspec": {
   "display_name": "base",
   "language": "python",
   "name": "python3"
  },
  "language_info": {
   "codemirror_mode": {
    "name": "ipython",
    "version": 3
   },
   "file_extension": ".py",
   "mimetype": "text/x-python",
   "name": "python",
   "nbconvert_exporter": "python",
   "pygments_lexer": "ipython3",
   "version": "3.11.7"
  }
 },
 "nbformat": 4,
 "nbformat_minor": 2
}
