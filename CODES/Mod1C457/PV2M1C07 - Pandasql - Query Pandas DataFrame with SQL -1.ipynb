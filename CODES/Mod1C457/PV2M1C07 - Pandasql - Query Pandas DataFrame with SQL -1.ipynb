{
 "cells": [
  {
   "cell_type": "markdown",
   "id": "17eba4f5",
   "metadata": {},
   "source": [
    "# How to Run SQL Queries On Your Pandas DataFrames With Python\n",
    "                        \n",
    "Pandas is being increasingly used by Data Scientists and Data Analysts for data analysis purposes, and it has the advantage of being part of the wider Python universe, making it accessible to many people. SQL on the other hand is known for its performance, being human-readable, and can be easily understood even by non-technical people.                \n",
    "                                                                  \n",
    "What if we could find a way to combine the benefits of both Pandas and SQL statements? Here is where pandasql comes in handy.\n",
    "                    \n",
    "### Pandasql\n",
    "It is basically used to query pandas DataFrames using SQL syntax. The same process can be performed using sqldf to interact with R DataFrames.\n",
    "\n",
    "#### Prerequisites\n",
    "The installation is straightforward with the syntaxes below depending on your environment:"
   ]
  },
  {
   "cell_type": "code",
   "execution_count": 8,
   "id": "0b042cd7",
   "metadata": {},
   "outputs": [
    {
     "name": "stdout",
     "output_type": "stream",
     "text": [
      "Requirement already satisfied: pandasql in c:\\users\\administrator\\anaconda3\\lib\\site-packages (0.7.3)\n",
      "Requirement already satisfied: sqlalchemy in c:\\users\\administrator\\anaconda3\\lib\\site-packages (from pandasql) (1.4.39)\n",
      "Requirement already satisfied: pandas in c:\\users\\administrator\\anaconda3\\lib\\site-packages (from pandasql) (1.3.4)\n",
      "Requirement already satisfied: numpy in c:\\users\\administrator\\anaconda3\\lib\\site-packages (from pandasql) (1.23.3)\n",
      "Requirement already satisfied: python-dateutil>=2.7.3 in c:\\users\\administrator\\anaconda3\\lib\\site-packages (from pandas->pandasql) (2.8.2)\n",
      "Requirement already satisfied: pytz>=2017.3 in c:\\users\\administrator\\anaconda3\\lib\\site-packages (from pandas->pandasql) (2021.3)\n",
      "Requirement already satisfied: six>=1.5 in c:\\users\\administrator\\anaconda3\\lib\\site-packages (from python-dateutil>=2.7.3->pandas->pandasql) (1.16.0)\n",
      "Requirement already satisfied: greenlet!=0.4.17 in c:\\users\\administrator\\anaconda3\\lib\\site-packages (from sqlalchemy->pandasql) (1.1.1)\n",
      "Note: you may need to restart the kernel to use updated packages.\n"
     ]
    }
   ],
   "source": [
    "%pip install pandasql "
   ]
  },
  {
   "cell_type": "markdown",
   "id": "c91aee19",
   "metadata": {},
   "source": [
    "### After successfully installing the library, you should be able to import the library using the following statement."
   ]
  },
  {
   "cell_type": "code",
   "execution_count": 1,
   "id": "515f0ccf",
   "metadata": {},
   "outputs": [],
   "source": [
    "from pandasql import sqldf"
   ]
  },
  {
   "cell_type": "markdown",
   "id": "5d8d0364",
   "metadata": {},
   "source": [
    " ### let’s start by creating the datasets StudentTable and TeachingAssistantTablethat will be used for hands-on practice."
   ]
  },
  {
   "cell_type": "code",
   "execution_count": 2,
   "id": "00171573",
   "metadata": {},
   "outputs": [],
   "source": [
    "# Import the pandas library for creating the dataframes\n",
    "import pandas as pd"
   ]
  },
  {
   "cell_type": "code",
   "execution_count": 3,
   "id": "87c50cc2",
   "metadata": {},
   "outputs": [
    {
     "data": {
      "text/html": [
       "<div>\n",
       "<style scoped>\n",
       "    .dataframe tbody tr th:only-of-type {\n",
       "        vertical-align: middle;\n",
       "    }\n",
       "\n",
       "    .dataframe tbody tr th {\n",
       "        vertical-align: top;\n",
       "    }\n",
       "\n",
       "    .dataframe thead th {\n",
       "        text-align: right;\n",
       "    }\n",
       "</style>\n",
       "<table border=\"1\" class=\"dataframe\">\n",
       "  <thead>\n",
       "    <tr style=\"text-align: right;\">\n",
       "      <th></th>\n",
       "      <th>Students</th>\n",
       "      <th>Gender</th>\n",
       "      <th>Age</th>\n",
       "      <th>Email</th>\n",
       "    </tr>\n",
       "  </thead>\n",
       "  <tbody>\n",
       "    <tr>\n",
       "      <th>0</th>\n",
       "      <td>Sira</td>\n",
       "      <td>Female</td>\n",
       "      <td>18</td>\n",
       "      <td>sira@info.com</td>\n",
       "    </tr>\n",
       "    <tr>\n",
       "      <th>1</th>\n",
       "      <td>Ibrahim</td>\n",
       "      <td>Male</td>\n",
       "      <td>27</td>\n",
       "      <td>ib@info.com</td>\n",
       "    </tr>\n",
       "    <tr>\n",
       "      <th>2</th>\n",
       "      <td>Moussa</td>\n",
       "      <td>Male</td>\n",
       "      <td>19</td>\n",
       "      <td>mouss@info.com</td>\n",
       "    </tr>\n",
       "    <tr>\n",
       "      <th>3</th>\n",
       "      <td>Mamadou</td>\n",
       "      <td>Male</td>\n",
       "      <td>22</td>\n",
       "      <td>mam@info.com</td>\n",
       "    </tr>\n",
       "    <tr>\n",
       "      <th>4</th>\n",
       "      <td>Nabintou</td>\n",
       "      <td>Female</td>\n",
       "      <td>21</td>\n",
       "      <td>nab@info.com</td>\n",
       "    </tr>\n",
       "  </tbody>\n",
       "</table>\n",
       "</div>"
      ],
      "text/plain": [
       "   Students  Gender  Age           Email\n",
       "0      Sira  Female   18   sira@info.com\n",
       "1   Ibrahim    Male   27     ib@info.com\n",
       "2    Moussa    Male   19  mouss@info.com\n",
       "3   Mamadou    Male   22    mam@info.com\n",
       "4  Nabintou  Female   21    nab@info.com"
      ]
     },
     "execution_count": 3,
     "metadata": {},
     "output_type": "execute_result"
    }
   ],
   "source": [
    "# Create the Student Data Frame\n",
    "\n",
    "students= {\n",
    "    'Students':[\"Sira\",\"Ibrahim\",\"Moussa\",\"Mamadou\",\"Nabintou\"],\n",
    "    'Gender':['Female','Male','Male', \"Male\", \"Female\"],\n",
    "    'Age':[18, 27, 19, 22, 21],\n",
    "    'Email': [\"sira@info.com\", \"ib@info.com\", \"mouss@info.com\", \n",
    "             \"mam@info.com\", \"nab@info.com\"]\n",
    "          }\n",
    "students_df = pd.DataFrame(students)\n",
    "\n",
    "students_df"
   ]
  },
  {
   "cell_type": "code",
   "execution_count": 4,
   "id": "cc9242ab",
   "metadata": {},
   "outputs": [
    {
     "data": {
      "text/html": [
       "<div>\n",
       "<style scoped>\n",
       "    .dataframe tbody tr th:only-of-type {\n",
       "        vertical-align: middle;\n",
       "    }\n",
       "\n",
       "    .dataframe tbody tr th {\n",
       "        vertical-align: top;\n",
       "    }\n",
       "\n",
       "    .dataframe thead th {\n",
       "        text-align: right;\n",
       "    }\n",
       "</style>\n",
       "<table border=\"1\" class=\"dataframe\">\n",
       "  <thead>\n",
       "    <tr style=\"text-align: right;\">\n",
       "      <th></th>\n",
       "      <th>Teacher</th>\n",
       "      <th>Email</th>\n",
       "      <th>Degree</th>\n",
       "      <th>Department</th>\n",
       "    </tr>\n",
       "  </thead>\n",
       "  <tbody>\n",
       "    <tr>\n",
       "      <th>0</th>\n",
       "      <td>Ibrahim</td>\n",
       "      <td>ib@info.com</td>\n",
       "      <td>M.S in Data Science</td>\n",
       "      <td>Business</td>\n",
       "    </tr>\n",
       "    <tr>\n",
       "      <th>1</th>\n",
       "      <td>Nabintou</td>\n",
       "      <td>nab@info.com</td>\n",
       "      <td>B.S in Statistics</td>\n",
       "      <td>Statistics</td>\n",
       "    </tr>\n",
       "    <tr>\n",
       "      <th>2</th>\n",
       "      <td>Mamadou</td>\n",
       "      <td>mam@info.com</td>\n",
       "      <td>B. Comp Sc</td>\n",
       "      <td>Comp Sc</td>\n",
       "    </tr>\n",
       "    <tr>\n",
       "      <th>3</th>\n",
       "      <td>Fatim</td>\n",
       "      <td>fat@info.com</td>\n",
       "      <td>M.S. Architecture</td>\n",
       "      <td>Engineering</td>\n",
       "    </tr>\n",
       "    <tr>\n",
       "      <th>4</th>\n",
       "      <td>Aziz</td>\n",
       "      <td>aziz@info.com</td>\n",
       "      <td>B.S in Accounting</td>\n",
       "      <td>Business</td>\n",
       "    </tr>\n",
       "  </tbody>\n",
       "</table>\n",
       "</div>"
      ],
      "text/plain": [
       "    Teacher          Email               Degree   Department\n",
       "0   Ibrahim    ib@info.com  M.S in Data Science     Business\n",
       "1  Nabintou   nab@info.com    B.S in Statistics   Statistics\n",
       "2   Mamadou   mam@info.com           B. Comp Sc      Comp Sc\n",
       "3     Fatim   fat@info.com    M.S. Architecture  Engineering\n",
       "4      Aziz  aziz@info.com    B.S in Accounting     Business"
      ]
     },
     "execution_count": 4,
     "metadata": {},
     "output_type": "execute_result"
    }
   ],
   "source": [
    "# Create the Teaching Assistant Data Frame\n",
    "\n",
    "teaching_assistant= {\n",
    "    'Teacher':[\"Ibrahim\",\"Nabintou\",\"Mamadou\",\"Fatim\",\"Aziz\"],\n",
    "    'Email':['ib@info.com','nab@info.com','mam@info.com', \n",
    "             \"fat@info.com\", \"aziz@info.com\"],\n",
    "    'Degree':[\"M.S in Data Science\", \"B.S in Statistics\", \n",
    "              \"B. Comp Sc\", \"M.S. Architecture\", \"B.S in Accounting\"],\n",
    "    'Department': [\"Business\", \"Statistics\", \"Comp Sc\", \n",
    "             \"Engineering\", \"Business\"]\n",
    "          }\n",
    "teaching_assistant_df = pd.DataFrame(teaching_assistant)\n",
    "\n",
    "teaching_assistant_df"
   ]
  },
  {
   "cell_type": "markdown",
   "id": "936942dc",
   "metadata": {},
   "source": [
    "### These are the main concepts that will be covered in this section:\n",
    "##### (1) column section\n",
    "##### (2) data filtering\n",
    "##### (3) data aggregation \n",
    "##### (4) data joining\n",
    "\n",
    "# Column Selection\n",
    "\n",
    "#### This corresponds to selecting part or all the columns of your database/data frame. It is performed with the keyword       \n",
    "   ##### SELECT col_1, col_2,... col_X FROM tableName\n",
    "\n",
    "##### → 1, 2, ...X correspond to the columns you are interested in having in the final result.\n",
    "\n",
    "##### → tableName is the name of the dataframe/table.\n",
    "\n",
    "The result from the following code includes all the columns of the student dataframe."
   ]
  },
  {
   "cell_type": "code",
   "execution_count": 7,
   "id": "d3e2593d",
   "metadata": {},
   "outputs": [
    {
     "name": "stdout",
     "output_type": "stream",
     "text": [
      "   Students  Gender  Age           Email\n",
      "0      Sira  Female   18   sira@info.com\n",
      "1   Ibrahim    Male   27     ib@info.com\n",
      "2    Moussa    Male   19  mouss@info.com\n",
      "3   Mamadou    Male   22    mam@info.com\n",
      "4  Nabintou  Female   21    nab@info.com\n"
     ]
    }
   ],
   "source": [
    "all_students = sqldf(\"SELECT * FROM students_df\")\n",
    "print(all_students)"
   ]
  },
  {
   "cell_type": "code",
   "execution_count": 8,
   "id": "d70ba608",
   "metadata": {},
   "outputs": [
    {
     "name": "stdout",
     "output_type": "stream",
     "text": [
      "   Students  Gender\n",
      "0      Sira  Female\n",
      "1   Ibrahim    Male\n",
      "2    Moussa    Male\n",
      "3   Mamadou    Male\n",
      "4  Nabintou  Female\n"
     ]
    }
   ],
   "source": [
    "all_students = sqldf(\"SELECT Students, Gender FROM students_df\")\n",
    "print(all_students)"
   ]
  },
  {
   "cell_type": "markdown",
   "id": "a882851c",
   "metadata": {},
   "source": [
    "#### all_students is also a DataFrame, which can be helpful if you want to perform quick Pandas tasks such as column types. Below is an illustration."
   ]
  },
  {
   "cell_type": "code",
   "execution_count": 9,
   "id": "2506eb5a",
   "metadata": {},
   "outputs": [
    {
     "name": "stdout",
     "output_type": "stream",
     "text": [
      "<class 'pandas.core.frame.DataFrame'>\n",
      "------------------------------\n",
      "Students    object\n",
      "Gender      object\n",
      "dtype: object\n"
     ]
    }
   ],
   "source": [
    "# Check the type of all_students\n",
    "print(type(all_students))\n",
    "\n",
    "# Run Pandas Statement to show the type of the columns\n",
    "print(\"---\"*10)\n",
    "print(all_students.dtypes)"
   ]
  },
  {
   "cell_type": "markdown",
   "id": "231ccac1",
   "metadata": {},
   "source": [
    "Sometimes when you have complicated queries, you can proceed step by step as follow:\n",
    "\n",
    "Define the query as a string. When doing so, make sure to use the triple quote sign ”””so that you can write the query on multiple lines.                         \n",
    "Apply the sqldf function to the query to get the result.                    \n",
    "Let’s say we want the student's name, their email and limit the result to the first 3.             "
   ]
  },
  {
   "cell_type": "code",
   "execution_count": 12,
   "id": "14a8580b",
   "metadata": {},
   "outputs": [
    {
     "data": {
      "text/html": [
       "<div>\n",
       "<style scoped>\n",
       "    .dataframe tbody tr th:only-of-type {\n",
       "        vertical-align: middle;\n",
       "    }\n",
       "\n",
       "    .dataframe tbody tr th {\n",
       "        vertical-align: top;\n",
       "    }\n",
       "\n",
       "    .dataframe thead th {\n",
       "        text-align: right;\n",
       "    }\n",
       "</style>\n",
       "<table border=\"1\" class=\"dataframe\">\n",
       "  <thead>\n",
       "    <tr style=\"text-align: right;\">\n",
       "      <th></th>\n",
       "      <th>Students</th>\n",
       "      <th>Email</th>\n",
       "    </tr>\n",
       "  </thead>\n",
       "  <tbody>\n",
       "    <tr>\n",
       "      <th>0</th>\n",
       "      <td>Sira</td>\n",
       "      <td>sira@info.com</td>\n",
       "    </tr>\n",
       "    <tr>\n",
       "      <th>1</th>\n",
       "      <td>Ibrahim</td>\n",
       "      <td>ib@info.com</td>\n",
       "    </tr>\n",
       "  </tbody>\n",
       "</table>\n",
       "</div>"
      ],
      "text/plain": [
       "  Students          Email\n",
       "0     Sira  sira@info.com\n",
       "1  Ibrahim    ib@info.com"
      ]
     },
     "execution_count": 12,
     "metadata": {},
     "output_type": "execute_result"
    }
   ],
   "source": [
    "# Query definition\n",
    "query = \"\"\" SELECT Students, Email \n",
    "            FROM students_df \n",
    "            LIMIT 2\n",
    "        \"\"\"\n",
    "# Query execution\n",
    "name_email = sqldf(query)\n",
    "name_email"
   ]
  },
  {
   "cell_type": "markdown",
   "id": "6da66855",
   "metadata": {},
   "source": [
    " # Data Filtering\n",
    " \n",
    " ##### Data filtering is when the WHERE statement comes into the equation to perform custom filtering on the result of the SELECT statement.\n",
    "\n",
    "Let’s imagine that we want all the female students."
   ]
  },
  {
   "cell_type": "code",
   "execution_count": 14,
   "id": "da275191",
   "metadata": {},
   "outputs": [
    {
     "data": {
      "text/html": [
       "<div>\n",
       "<style scoped>\n",
       "    .dataframe tbody tr th:only-of-type {\n",
       "        vertical-align: middle;\n",
       "    }\n",
       "\n",
       "    .dataframe tbody tr th {\n",
       "        vertical-align: top;\n",
       "    }\n",
       "\n",
       "    .dataframe thead th {\n",
       "        text-align: right;\n",
       "    }\n",
       "</style>\n",
       "<table border=\"1\" class=\"dataframe\">\n",
       "  <thead>\n",
       "    <tr style=\"text-align: right;\">\n",
       "      <th></th>\n",
       "      <th>Students</th>\n",
       "      <th>Gender</th>\n",
       "      <th>Age</th>\n",
       "      <th>Email</th>\n",
       "    </tr>\n",
       "  </thead>\n",
       "  <tbody>\n",
       "    <tr>\n",
       "      <th>0</th>\n",
       "      <td>Ibrahim</td>\n",
       "      <td>Male</td>\n",
       "      <td>27</td>\n",
       "      <td>ib@info.com</td>\n",
       "    </tr>\n",
       "    <tr>\n",
       "      <th>1</th>\n",
       "      <td>Moussa</td>\n",
       "      <td>Male</td>\n",
       "      <td>19</td>\n",
       "      <td>mouss@info.com</td>\n",
       "    </tr>\n",
       "    <tr>\n",
       "      <th>2</th>\n",
       "      <td>Mamadou</td>\n",
       "      <td>Male</td>\n",
       "      <td>22</td>\n",
       "      <td>mam@info.com</td>\n",
       "    </tr>\n",
       "  </tbody>\n",
       "</table>\n",
       "</div>"
      ],
      "text/plain": [
       "  Students Gender  Age           Email\n",
       "0  Ibrahim   Male   27     ib@info.com\n",
       "1   Moussa   Male   19  mouss@info.com\n",
       "2  Mamadou   Male   22    mam@info.com"
      ]
     },
     "execution_count": 14,
     "metadata": {},
     "output_type": "execute_result"
    }
   ],
   "source": [
    "# Define the query\n",
    "query = \"\"\"SELECT * \n",
    "           FROM students_df \n",
    "           WHERE Gender = 'Male'\n",
    "        \"\"\"\n",
    "\n",
    "# Execute the query\n",
    "female_student = sqldf(query)\n",
    "female_student"
   ]
  },
  {
   "cell_type": "markdown",
   "id": "34ac59ae",
   "metadata": {},
   "source": [
    "Let’s have a look at this query that aims to retrieve the Name, Email, and Degree of all the Teaching Assistants with a Master's Degree."
   ]
  },
  {
   "cell_type": "code",
   "execution_count": 18,
   "id": "dba3f14b",
   "metadata": {},
   "outputs": [
    {
     "data": {
      "text/html": [
       "<div>\n",
       "<style scoped>\n",
       "    .dataframe tbody tr th:only-of-type {\n",
       "        vertical-align: middle;\n",
       "    }\n",
       "\n",
       "    .dataframe tbody tr th {\n",
       "        vertical-align: top;\n",
       "    }\n",
       "\n",
       "    .dataframe thead th {\n",
       "        text-align: right;\n",
       "    }\n",
       "</style>\n",
       "<table border=\"1\" class=\"dataframe\">\n",
       "  <thead>\n",
       "    <tr style=\"text-align: right;\">\n",
       "      <th></th>\n",
       "      <th>Teacher</th>\n",
       "      <th>Email</th>\n",
       "      <th>Degree</th>\n",
       "    </tr>\n",
       "  </thead>\n",
       "  <tbody>\n",
       "    <tr>\n",
       "      <th>0</th>\n",
       "      <td>Nabintou</td>\n",
       "      <td>nab@info.com</td>\n",
       "      <td>B.S in Statistics</td>\n",
       "    </tr>\n",
       "    <tr>\n",
       "      <th>1</th>\n",
       "      <td>Mamadou</td>\n",
       "      <td>mam@info.com</td>\n",
       "      <td>B. Comp Sc</td>\n",
       "    </tr>\n",
       "    <tr>\n",
       "      <th>2</th>\n",
       "      <td>Aziz</td>\n",
       "      <td>aziz@info.com</td>\n",
       "      <td>B.S in Accounting</td>\n",
       "    </tr>\n",
       "  </tbody>\n",
       "</table>\n",
       "</div>"
      ],
      "text/plain": [
       "    Teacher          Email             Degree\n",
       "0  Nabintou   nab@info.com  B.S in Statistics\n",
       "1   Mamadou   mam@info.com         B. Comp Sc\n",
       "2      Aziz  aziz@info.com  B.S in Accounting"
      ]
     },
     "execution_count": 18,
     "metadata": {},
     "output_type": "execute_result"
    }
   ],
   "source": [
    "query = \"\"\" SELECT Teacher, Email, Degree \n",
    "            FROM teaching_assistant_df \n",
    "            WHERE Degree LIKE 'B.%'\n",
    "            \"\"\"\n",
    "ms_students = sqldf(query)\n",
    "ms_students\n"
   ]
  },
  {
   "cell_type": "markdown",
   "id": "f1ef8329",
   "metadata": {},
   "source": [
    "I have decided to perform the same request, this time using Pandas statement, and this is what it looks like!"
   ]
  },
  {
   "cell_type": "code",
   "execution_count": 19,
   "id": "7a2ef2bf",
   "metadata": {},
   "outputs": [
    {
     "data": {
      "text/html": [
       "<div>\n",
       "<style scoped>\n",
       "    .dataframe tbody tr th:only-of-type {\n",
       "        vertical-align: middle;\n",
       "    }\n",
       "\n",
       "    .dataframe tbody tr th {\n",
       "        vertical-align: top;\n",
       "    }\n",
       "\n",
       "    .dataframe thead th {\n",
       "        text-align: right;\n",
       "    }\n",
       "</style>\n",
       "<table border=\"1\" class=\"dataframe\">\n",
       "  <thead>\n",
       "    <tr style=\"text-align: right;\">\n",
       "      <th></th>\n",
       "      <th>Teacher</th>\n",
       "      <th>Email</th>\n",
       "      <th>Degree</th>\n",
       "    </tr>\n",
       "  </thead>\n",
       "  <tbody>\n",
       "    <tr>\n",
       "      <th>0</th>\n",
       "      <td>Ibrahim</td>\n",
       "      <td>ib@info.com</td>\n",
       "      <td>M.S in Data Science</td>\n",
       "    </tr>\n",
       "    <tr>\n",
       "      <th>3</th>\n",
       "      <td>Fatim</td>\n",
       "      <td>fat@info.com</td>\n",
       "      <td>M.S. Architecture</td>\n",
       "    </tr>\n",
       "  </tbody>\n",
       "</table>\n",
       "</div>"
      ],
      "text/plain": [
       "   Teacher         Email               Degree\n",
       "0  Ibrahim   ib@info.com  M.S in Data Science\n",
       "3    Fatim  fat@info.com    M.S. Architecture"
      ]
     },
     "execution_count": 19,
     "metadata": {},
     "output_type": "execute_result"
    }
   ],
   "source": [
    "cols_to_get = ['Teacher', 'Email', 'Degree']\n",
    "teaching_assistant_df[teaching_assistant_df.Degree.str.startswith('M.S')][cols_to_get]"
   ]
  },
  {
   "cell_type": "markdown",
   "id": "32cd253e",
   "metadata": {},
   "source": [
    "#### This looks like. scary statement 🥺. Let’s understand what happened:\n",
    "\n",
    "###### cols_to_get corresponds to the columns we want in the final dataframe. It’s basically equivalent to the columns we specify when using the SELECT statement.\n",
    "###### teaching_assistant_df.Degree.str.startswith('M.S') returns True is the value in the Degreecolumn starts with 'M.S'. FalseOtherwise.\n",
    "###### Finally, those boolean values are transmitted to the starting teaching_assistant_df to get rows where the result is True.\n",
    "#### But… we performed the same task with SQL query, and was simple and easy to understand. Without going into too much comparative analysis, just wanted to emphasize how complicated can be some queries that are simple to write in SQL.\n",
    "\n",
    "# Data Aggregation\n",
    "\n",
    "Aggregation in SQL is performed with the help of aggregation functions, and these are some of the most commonly used: COUNT , SUM , MAX & MIN , and AVG . For instance, you can get the age of students, based on their gender."
   ]
  },
  {
   "cell_type": "code",
   "execution_count": 14,
   "id": "2c6ff90a",
   "metadata": {},
   "outputs": [
    {
     "data": {
      "text/html": [
       "<div>\n",
       "<style scoped>\n",
       "    .dataframe tbody tr th:only-of-type {\n",
       "        vertical-align: middle;\n",
       "    }\n",
       "\n",
       "    .dataframe tbody tr th {\n",
       "        vertical-align: top;\n",
       "    }\n",
       "\n",
       "    .dataframe thead th {\n",
       "        text-align: right;\n",
       "    }\n",
       "</style>\n",
       "<table border=\"1\" class=\"dataframe\">\n",
       "  <thead>\n",
       "    <tr style=\"text-align: right;\">\n",
       "      <th></th>\n",
       "      <th>AVG(Age)</th>\n",
       "      <th>Gender</th>\n",
       "    </tr>\n",
       "  </thead>\n",
       "  <tbody>\n",
       "    <tr>\n",
       "      <th>0</th>\n",
       "      <td>19.500000</td>\n",
       "      <td>Female</td>\n",
       "    </tr>\n",
       "    <tr>\n",
       "      <th>1</th>\n",
       "      <td>22.666667</td>\n",
       "      <td>Male</td>\n",
       "    </tr>\n",
       "  </tbody>\n",
       "</table>\n",
       "</div>"
      ],
      "text/plain": [
       "    AVG(Age)  Gender\n",
       "0  19.500000  Female\n",
       "1  22.666667    Male"
      ]
     },
     "execution_count": 14,
     "metadata": {},
     "output_type": "execute_result"
    }
   ],
   "source": [
    "query = \"\"\" SELECT AVG(Age), Gender \n",
    "            FROM students_df \n",
    "            GROUP BY Gender\n",
    "        \"\"\"\n",
    "avg_age = sqldf(query)\n",
    "avg_age"
   ]
  },
  {
   "cell_type": "markdown",
   "id": "b665418e",
   "metadata": {},
   "source": [
    "# Data Joining\n",
    "\n",
    "### The join concept becomes useful when we want to combine data from at least two tables. This section goes straight to the point with only one type of join. \n",
    "                                    \n",
    "#### Imagine you want to know who is both a student and also a teaching assistant. The answer to this requires joining our two tables as follows, using an INNER JOIN and the final result contains the following information:\n",
    "                           \n",
    "###### Student Name, Gender, Email, and Age from the students_df table.\n",
    "###### Department from the teaching_assistant_df dataframe."
   ]
  },
  {
   "cell_type": "code",
   "execution_count": 15,
   "id": "45a17068",
   "metadata": {},
   "outputs": [
    {
     "data": {
      "text/html": [
       "<div>\n",
       "<style scoped>\n",
       "    .dataframe tbody tr th:only-of-type {\n",
       "        vertical-align: middle;\n",
       "    }\n",
       "\n",
       "    .dataframe tbody tr th {\n",
       "        vertical-align: top;\n",
       "    }\n",
       "\n",
       "    .dataframe thead th {\n",
       "        text-align: right;\n",
       "    }\n",
       "</style>\n",
       "<table border=\"1\" class=\"dataframe\">\n",
       "  <thead>\n",
       "    <tr style=\"text-align: right;\">\n",
       "      <th></th>\n",
       "      <th>Students</th>\n",
       "      <th>Gender</th>\n",
       "      <th>Email</th>\n",
       "      <th>Age</th>\n",
       "      <th>Department</th>\n",
       "    </tr>\n",
       "  </thead>\n",
       "  <tbody>\n",
       "    <tr>\n",
       "      <th>0</th>\n",
       "      <td>Ibrahim</td>\n",
       "      <td>Male</td>\n",
       "      <td>ib@info.com</td>\n",
       "      <td>27</td>\n",
       "      <td>Business</td>\n",
       "    </tr>\n",
       "    <tr>\n",
       "      <th>1</th>\n",
       "      <td>Mamadou</td>\n",
       "      <td>Male</td>\n",
       "      <td>mam@info.com</td>\n",
       "      <td>22</td>\n",
       "      <td>Comp Sc</td>\n",
       "    </tr>\n",
       "    <tr>\n",
       "      <th>2</th>\n",
       "      <td>Nabintou</td>\n",
       "      <td>Female</td>\n",
       "      <td>nab@info.com</td>\n",
       "      <td>21</td>\n",
       "      <td>Statistics</td>\n",
       "    </tr>\n",
       "  </tbody>\n",
       "</table>\n",
       "</div>"
      ],
      "text/plain": [
       "   Students  Gender         Email  Age  Department\n",
       "0   Ibrahim    Male   ib@info.com   27    Business\n",
       "1   Mamadou    Male  mam@info.com   22     Comp Sc\n",
       "2  Nabintou  Female  nab@info.com   21  Statistics"
      ]
     },
     "execution_count": 15,
     "metadata": {},
     "output_type": "execute_result"
    }
   ],
   "source": [
    "query = \"\"\" SELECT st.Students, st.Gender, st.Email, st.Age, tat.Department\n",
    "            FROM students_df st INNER JOIN teaching_assistant_df tat \n",
    "            ON st.Email = tat.Email;\n",
    "            \"\"\"\n",
    "\n",
    "result = sqldf(query)\n",
    "result"
   ]
  },
  {
   "cell_type": "markdown",
   "id": "f2a51a7a",
   "metadata": {},
   "source": [
    "### Limitations of Pandasql\n",
    "#### As Pandasql uses SQLite, it is subjected to all the limitations of SQLite. For example, SQLite does not implement right outer join or full outer join.\n",
    "#### Pandasql performs query only, it cannot perform SQL operations such as update, insert or alter tables."
   ]
  },
  {
   "cell_type": "code",
   "execution_count": null,
   "id": "c89d97fa",
   "metadata": {},
   "outputs": [],
   "source": []
  }
 ],
 "metadata": {
  "kernelspec": {
   "display_name": "Python 3 (ipykernel)",
   "language": "python",
   "name": "python3"
  },
  "language_info": {
   "codemirror_mode": {
    "name": "ipython",
    "version": 3
   },
   "file_extension": ".py",
   "mimetype": "text/x-python",
   "name": "python",
   "nbconvert_exporter": "python",
   "pygments_lexer": "ipython3",
   "version": "3.9.7"
  }
 },
 "nbformat": 4,
 "nbformat_minor": 5
}
